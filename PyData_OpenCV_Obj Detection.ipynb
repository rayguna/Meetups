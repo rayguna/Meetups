{
 "cells": [
  {
   "cell_type": "markdown",
   "metadata": {},
   "source": [
    "### Object Recognition Demonstration Using Out-of-the-Box Pre-Trained Models\n",
    "<br>\n",
    "*Abstract*  \n",
    " <div class='text-justify'>\n",
    "Here, I demonstrate object recognition of arbitrary objects using out-of-the-box pre-trained models. I use OpenCV library for the image processing and Keras library for the object recognition. I supply the unlabeled object to the program either as a saved image or as an image cropped from a live video. The program then processes the image using the built-in pre-trained models (VGG16, VGG19, InceptionV3, Xception, or ResNet50 ) in the Keras library. I will briefly explain what is happening under the hood. Finally, I provide resources for further study.  \n",
    "</div>\n",
    "\n"
   ]
  },
  {
   "cell_type": "markdown",
   "metadata": {},
   "source": [
    "***"
   ]
  },
  {
   "cell_type": "markdown",
   "metadata": {},
   "source": [
    "### Outline\n",
    "\n",
    "#### I. OpenCV (10 min)\n",
    "1. Stream live video   \n",
    "2. Crop and save image from live video\n",
    "\n",
    "#### II. Object Recognition (35 min)\n",
    "A. Implementation (20 min)\n",
    "1. Define a function for implementing out-of-the-box-pre-trained models    \n",
    "2. Define a function for cropping an image from a live video and feeding the image into a selected pre-trained model \n",
    "3. The GUI Interface\n",
    "4. What else can we do with out-of-the-box pre-trained models?\n",
    "\n",
    "B. What is happening under the hood? (15 min)\n",
    "1. Imagenet: The origin of the pre-trained models  \n",
    "2. Pre-trained model architecture\n",
    "3. Pre-trained models comparison  \n",
    "4. Artificial intelligence - the big picture\n",
    "\n",
    "#### III. Resources for Further Study"
   ]
  },
  {
   "cell_type": "markdown",
   "metadata": {},
   "source": [
    "***"
   ]
  },
  {
   "cell_type": "markdown",
   "metadata": {},
   "source": [
    "### I. OpenCV"
   ]
  },
  {
   "cell_type": "markdown",
   "metadata": {},
   "source": [
    "1. Streaming a live video"
   ]
  },
  {
   "cell_type": "code",
   "execution_count": null,
   "metadata": {
    "collapsed": true
   },
   "outputs": [],
   "source": [
    "#http://opencv-python-tutroals.readthedocs.io/en/latest/py_tutorials/py_gui/py_video_display/py_video_display.html\n",
    "\n",
    "import numpy as np\n",
    "import cv2\n",
    "\n",
    "#call VideoCapture method\n",
    "cap = cv2.VideoCapture(0)\n",
    "\n",
    "while(True):\n",
    "    ret, frame=cap.read()\n",
    "    \n",
    "    cv2.imshow('video',frame)\n",
    "\n",
    "    #press 'q' to quit\n",
    "    if cv2.waitKey(1) & 0xFF== ord('q'):\n",
    "        break  \n",
    "\n",
    "#When everything is done, release the capture and destroy window\n",
    "cap.release()\n",
    "cv2.destroyAllWindows()"
   ]
  },
  {
   "cell_type": "markdown",
   "metadata": {},
   "source": [
    "<ol>\n",
    "2. Crop and save image from live video\n",
    "</ol>\n"
   ]
  },
  {
   "cell_type": "code",
   "execution_count": null,
   "metadata": {
    "collapsed": true
   },
   "outputs": [],
   "source": [
    "import numpy as np\n",
    "import cv2\n",
    "\n",
    "cap = cv2.VideoCapture(0)\n",
    "\n",
    "#initialize image counter\n",
    "img_counter=0\n",
    "\n",
    "#activate webcam and read region of interest.\n",
    "while(True):\n",
    "    ret, frame=cap.read()\n",
    "    \n",
    "    #define rectangular region of interest (roi) for cropping: w=width, h=height\n",
    "    x=0; y=0; w=224; h=224;\n",
    "    cv2.rectangle(frame, (x,y), (x+w, y+h), (0, 255, 0), 2)\n",
    "    \n",
    "    #read pixel arrays within the defined rectangle and call it roi\n",
    "    roi = frame[y:y+h, x:x+w]\n",
    "    \n",
    "    #when space button is pressed, take a picture and process image within roi\n",
    "    #https://stackoverflow.com/questions/34588464/python-how-to-capture-image-from-webcam-on-click-using-opencv/34588758\n",
    "    #https://stackoverflow.com/questions/14494101/using-other-keys-for-the-waitkey-function-of-opencv\n",
    "    if cv2.waitKey(33) == 32:\n",
    "        # SPACE pressed\n",
    "        #define image filename\n",
    "        #img_name = \"object_in_roi_{}.png\".format(img_counter)\n",
    "        \n",
    "        #save image\n",
    "        #cv2.imwrite(img_name, frame)\n",
    "        \n",
    "        #indicate filename of written image\n",
    "        #print(\"{} written!\".format(img_name))\n",
    "        \n",
    "        #increment img_counter\n",
    "        #img_counter += 1\n",
    "        \n",
    "        #add a text on cropped image\n",
    "        myStr='Hello World!'        \n",
    "        cv2.putText(roi, myStr, (10,20),1,1,(50,50,50),2)\n",
    "\n",
    "        #display text on cropped image\n",
    "        cv2.imshow('Object',roi)\n",
    "                        \n",
    "    #display original size image\n",
    "    cv2.imshow('video',frame)\n",
    "        \n",
    "    #press 'q' to quit\n",
    "    if cv2.waitKey(1) & 0xFF== ord('q'):\n",
    "        break  \n",
    "\n",
    "# When everything done, release the capture and destroy window\n",
    "cap.release()\n",
    "cv2.destroyAllWindows()"
   ]
  },
  {
   "cell_type": "markdown",
   "metadata": {},
   "source": [
    "#### II. Object Recognition (35 min)"
   ]
  },
  {
   "cell_type": "markdown",
   "metadata": {},
   "source": [
    "A. Implementation"
   ]
  },
  {
   "cell_type": "markdown",
   "metadata": {},
   "source": [
    "1. Define a function for implementing out-of-the-box pre-trained models  \n"
   ]
  },
  {
   "cell_type": "code",
   "execution_count": 2,
   "metadata": {},
   "outputs": [
    {
     "name": "stderr",
     "output_type": "stream",
     "text": [
      "C:\\Anaconda2\\envs\\py36\\lib\\site-packages\\h5py\\__init__.py:36: FutureWarning: Conversion of the second argument of issubdtype from `float` to `np.floating` is deprecated. In future, it will be treated as `np.float64 == np.dtype(float).type`.\n",
      "  from ._conv import register_converters as _register_converters\n",
      "Using TensorFlow backend.\n"
     ]
    }
   ],
   "source": [
    "#dynamically set tensorflow backend\n",
    "#https://stackoverflow.com/questions/49121112/how-do-i-set-the-keras-backend-in-python-dynamically-when-loaded-using-superviso\n",
    "import os\n",
    "os.environ['KERAS_BACKEND'] = 'tensorflow'\n",
    "from keras import backend as K\n",
    "\n",
    "from keras.utils import np_utils\n",
    "\n",
    "from keras.applications import imagenet_utils\n",
    "\n",
    "#https://machinelearningmastery.com/use-pre-trained-vgg-model-classify-objects-photographs/\n",
    "from keras.preprocessing.image import load_img\n",
    "from keras.preprocessing.image import img_to_array\n",
    "\n",
    "#VGG16\n",
    "from keras.applications.vgg16 import preprocess_input\n",
    "from keras.applications.vgg16 import decode_predictions\n",
    "from keras.applications.vgg16 import VGG16\n",
    "\n",
    "#VGG19\n",
    "from keras.applications.vgg19 import preprocess_input\n",
    "from keras.applications.vgg19 import decode_predictions\n",
    "from keras.applications.vgg19 import VGG19\n",
    "\n",
    "#ResNet50\n",
    "from keras.applications.resnet50 import preprocess_input\n",
    "from keras.applications.resnet50 import decode_predictions\n",
    "from keras.applications.resnet50 import ResNet50\n",
    "\n",
    "#InceptionV3\n",
    "from keras.applications.inception_v3 import preprocess_input\n",
    "from keras.applications.inception_v3 import decode_predictions\n",
    "from keras.applications.inception_v3 import InceptionV3\n",
    "\n",
    "#Xception\n",
    "from keras.applications.xception import preprocess_input\n",
    "from keras.applications.xception import decode_predictions\n",
    "from keras.applications.xception import Xception\n"
   ]
  },
  {
   "cell_type": "code",
   "execution_count": null,
   "metadata": {
    "collapsed": true
   },
   "outputs": [],
   "source": [
    "#code is copied fully from: https://www.pyimagesearch.com/2017/03/20/imagenet-vggnet-resnet-inception-xception-keras/\n",
    "\n",
    "def pyimagesearch(model,image_array):\n",
    "    '''\n",
    "    Feed image_array into specified pre-trained model and return five best predictions.\n",
    "\n",
    "        inputs\n",
    "            model: vgg16, vgg19, inception, xception, or resnet \n",
    "\n",
    "            image: specify an image\n",
    "            \n",
    "        return\n",
    "            five best predicted objects and the corresponding probabilities\n",
    "    '''\n",
    "\n",
    "    #pyimagesearch\n",
    "    # define a dictionary that maps model names to their classes\n",
    "    # inside Keras\n",
    "    MODELS = {\n",
    "        \"vgg16\": VGG16,\n",
    "        \"vgg19\": VGG19,\n",
    "        \"inception\": InceptionV3,\n",
    "        \"xception\": Xception, # TensorFlow ONLY\n",
    "        \"resnet\": ResNet50\n",
    "    }\n",
    "\n",
    "    # ensure a valid model name was supplied via command line argument\n",
    "    if model not in MODELS.keys():\n",
    "        raise AssertionError(\"The --model command line argument should \"\n",
    "            \"be a key in the `MODELS` dictionary\")\n",
    "\n",
    "    # initialize the input image shape (224x224 pixels) along with\n",
    "    # the pre-processing function (this might need to be changed\n",
    "    # based on which model we use to classify our image)\n",
    "    inputShape = (224, 224)\n",
    "    preprocess = imagenet_utils.preprocess_input\n",
    "\n",
    "    # if we are using the InceptionV3 or Xception networks, then we\n",
    "    # need to set the input shape to (299x299) [rather than (224x224)]\n",
    "    # and use a different image processing function\n",
    "    if model in (\"inception\", \"xception\"):\n",
    "        inputShape = (299, 299)\n",
    "        preprocess = preprocess_input\n",
    "\n",
    "    # load our the network weights from disk (NOTE: if this is the\n",
    "    # first time you are running this script for a given network, the\n",
    "    # weights will need to be downloaded first -- depending on which\n",
    "    # network you are using, the weights can be 90-575MB, so be\n",
    "    # patient; the weights will be cached and subsequent runs of this\n",
    "    # script will be *much* faster)\n",
    "    print(\"[INFO] loading {}...\".format(model))\n",
    "    Network = MODELS[model]\n",
    "    model = Network(weights=\"imagenet\")\n",
    "\n",
    "    # load the input image using the Keras helper utility while ensuring\n",
    "    # the image is resized to `inputShape`, the required input dimensions\n",
    "    # for the ImageNet pre-trained network\n",
    "    print(\"[INFO] loading and pre-processing image...\")\n",
    "    #image = load_img(args[\"image\"], target_size=inputShape)\n",
    "    #image = img_to_array(image)\n",
    "    image=image_array\n",
    "    \n",
    "    # our input image is now represented as a NumPy array of shape\n",
    "    # (inputShape[0], inputShape[1], 3) however we need to expand the\n",
    "    # dimension by making the shape (1, inputShape[0], inputShape[1], 3)\n",
    "    # so we can pass it through the network\n",
    "    image = np.expand_dims(image, axis=0)\n",
    "\n",
    "    # pre-process the image using the appropriate function based on the\n",
    "    # model that has been loaded (i.e., mean subtraction, scaling, etc.)\n",
    "    image = preprocess(image)\n",
    "\n",
    "    # classify the image\n",
    "    print(\"[INFO] classifying image with '{}'...\".format(model))\n",
    "    preds = model.predict(image)\n",
    "    P = imagenet_utils.decode_predictions(preds)\n",
    "\n",
    "    myStr='' #a string variable to concat the five best predictions into a single string\n",
    "    \n",
    "    # loop over the predictions and display the rank-5 predictions +\n",
    "    # probabilities to our terminal\n",
    "    for (i, (imagenetID, label, prob)) in enumerate(P[0]):\n",
    "        myStr+=\"{}. {}: {:.2f}% \\n\".format(i + 1, label, prob * 100)\n",
    "    \n",
    "    return myStr #this function returns a single string of the five best predictions\n",
    "        "
   ]
  },
  {
   "cell_type": "markdown",
   "metadata": {},
   "source": [
    "<ol> 2. Define a function for cropping an image from a live video and feeding the image into a selected pre-trained model  </ol>"
   ]
  },
  {
   "cell_type": "code",
   "execution_count": null,
   "metadata": {
    "collapsed": true
   },
   "outputs": [],
   "source": [
    "import numpy as np\n",
    "import cv2\n",
    "\n",
    "def get_image_from_Video(specify_model):\n",
    "    '''\n",
    "    Stream live video and crop an image within the box when user presses space. \n",
    "    Feed image into a specified pre-trained model and return the five best predictions.\n",
    "    \n",
    "    input\n",
    "        cropped image from a live video\n",
    "    \n",
    "    return\n",
    "        five best predicted objects and the corresponding probabilities\n",
    "    '''\n",
    "    \n",
    "    cap = cv2.VideoCapture(0)\n",
    "\n",
    "    #initialize image counter\n",
    "    img_counter=0\n",
    "\n",
    "    #activate webcam and read region of interest.\n",
    "    while(True):\n",
    "        ret, frame=cap.read()\n",
    "\n",
    "        #define region of interest (roi): w=width, h=height\n",
    "        x=0; y=0; w=224; h=224;\n",
    "\n",
    "        #draw a rectangle\n",
    "        cv2.rectangle(frame, (x,y), (x+w, y+h), (0, 255, 0), 2)\n",
    "\n",
    "        #read pixel arrays and call it roi\n",
    "        roi = frame[y:y+h, x:x+w]\n",
    "        \n",
    "        #initialize myStr\n",
    "        myStr=' '\n",
    "\n",
    "        #when space is pressed, take a picture and process image within roi\n",
    "        #https://stackoverflow.com/questions/34588464/python-how-to-capture-image-from-webcam-on-click-using-opencv/34588758\n",
    "        #https://stackoverflow.com/questions/14494101/using-other-keys-for-the-waitkey-function-of-opencv\n",
    "        if cv2.waitKey(33) == 32:#ord('a'):\n",
    "            \n",
    "            #feed image within roi into a selected pre-trained model by calling the function pyimagesearch\n",
    "            #display prediction as a text\n",
    "            myStr=pyimagesearch(specify_model,img_to_array(roi)) \n",
    "            \n",
    "            #indicate object name and probability on the image called roi\n",
    "            #https://stackoverflow.com/questions/27647424/opencv-puttext-new-line-character\n",
    "            #cv2.putText(roi, myStr, (10,20),1,1,(50,50,50),2)\n",
    "\n",
    "            y0, dy = 15, 15 #yo is the initial y offset and dy is the subsequent offset\n",
    "            for i, line in enumerate(myStr.split('\\n')):\n",
    "                y = y0 + i*dy\n",
    "                cv2.putText(roi, line, (0, y ), 1, 1, 2)\n",
    "\n",
    "            #display image with text\n",
    "            cv2.imshow('Object',roi)\n",
    "\n",
    "            #print object name\n",
    "            print(myStr)            \n",
    "            \n",
    "        #display original size image\n",
    "        cv2.imshow('video',frame)\n",
    "\n",
    "        #press 'q' to quit\n",
    "        if cv2.waitKey(1) & 0xFF== ord('q'):\n",
    "            break  \n",
    "\n",
    "    # When everything done, release the capture and destroy window\n",
    "    cap.release()\n",
    "    cv2.destroyAllWindows()"
   ]
  },
  {
   "cell_type": "markdown",
   "metadata": {},
   "source": [
    "<ol> 3. The GUI Interface </ol>"
   ]
  },
  {
   "cell_type": "code",
   "execution_count": null,
   "metadata": {
    "collapsed": true
   },
   "outputs": [],
   "source": [
    "#https://www.python-course.eu/tkinter_radiobuttons.php\n",
    "import tkinter as tk\n",
    "from tkinter.filedialog import askopenfilename\n",
    "\n",
    "import matplotlib.pyplot as plt\n",
    "import cv2\n",
    "import numpy as np\n",
    "\n",
    "root = tk.Tk()\n",
    "rdbValue = tk.IntVar()\n",
    "\n",
    "#call this function if Start button is triggered\n",
    "def pressed_Start():\n",
    "    \n",
    "    # initialize the input image shape (224x224 pixels) along with\n",
    "    # the pre-processing function (this might need to be changed\n",
    "    # based on which model we use to classify our image)\n",
    "    inputShape = (224, 224)\n",
    "    preprocess = imagenet_utils.preprocess_input\n",
    "\n",
    "    # if we are using the InceptionV3 or Xception networks, then we\n",
    "    # need to set the input shape to (299x299) [rather than (224x224)]\n",
    "    # and use a different image processing function\n",
    "    if optValue.get() in (\"inception\", \"xception\"):\n",
    "        inputShape = (299, 299)\n",
    "        preprocess = preprocess_input\n",
    "    \n",
    "    \n",
    "    #open up FileDialog window if picture is selected as the image source\n",
    "    ##https://stackoverflow.com/questions/9239514/filedialog-tkinter-and-opening-files\n",
    "    if str(rdbValue.get())==\"0\":\n",
    "        fname = askopenfilename(filetypes=((\"JPG\", \"*.jpeg\"),\n",
    "                                           (\"All files\", \"*.*\") ))\n",
    "        if fname:\n",
    "            try:               \n",
    "\n",
    "                #1. Load image and convert image to array. This image format will be used as input for object prediction.\n",
    "                image = load_img(fname, target_size=inputShape) #read image from file\n",
    "                image = img_to_array(image)\n",
    "                #Call the pyimagesearch() function\n",
    "                myStr=pyimagesearch(optValue.get(),image)\n",
    "                \n",
    "                \n",
    "                #2. Read image from file. This image format will be used to display the original image.\n",
    "                img_from_file=cv2.imread(fname,1)\n",
    "                \n",
    "                #split prediction result, so that it can be overlaid with image as text.\n",
    "                y0, dy = 15, 15 #yo is the initial y offset and dy is the subsequent offset\n",
    "                for i, line in enumerate(myStr.split('\\n')):\n",
    "                    y = y0 + i*dy\n",
    "                    cv2.putText(img_from_file, line, (0, y ), 1, 1, 2)\n",
    "\n",
    "                #display image with text\n",
    "                cv2.imshow('Object',img_from_file)\n",
    "\n",
    "            except: #give error message if file cannot be read                     \n",
    "                showerror(\"Open Source File\", \"Failed to read file\\n'%s'\" % fname)\n",
    "                \n",
    "            return       \n",
    "    \n",
    "    #if Video is selected, call the get_image_from_Video() function\n",
    "    else:\n",
    "        #print out prediction results\n",
    "        print(get_image_from_Video(optValue.get())) #change model to optValue.get() #need to troubleshoot\n",
    "\n",
    "#label    \n",
    "tk.Label(root, \n",
    "        text=\"\"\"Choose image source:\"\"\",\n",
    "        justify = tk.LEFT,\n",
    "        padx = 20).pack()\n",
    "\n",
    "#radio buttons\n",
    "rdbValue = tk.IntVar()\n",
    "options = [(\"Picture\"),(\"Video\")]\n",
    "\n",
    "for val, language in enumerate(options):\n",
    "    tk.Radiobutton(root, \n",
    "                  text=language,\n",
    "                  padx = 20, \n",
    "                  variable=rdbValue, \n",
    "                  value=val).pack(anchor=tk.W)\n",
    "\n",
    "#label\n",
    "tk.Label(root, \n",
    "        text=\"\"\"Choose pre-trained model:\"\"\",\n",
    "        justify = tk.LEFT,\n",
    "        padx = 20).pack()\n",
    "\n",
    "options = ['', 'vgg16', 'vgg19', 'resnet', 'inception', 'xception']\n",
    "optValue = tk.StringVar()\n",
    "optValue.set(options[1])\n",
    "\n",
    "optModels=tk.OptionMenu(root,optValue,\n",
    "              *options).pack(anchor=tk.CENTER)\n",
    "\n",
    "#button\n",
    "btnStart=tk.Button(root,\n",
    "          text=\"Start\",\n",
    "          padx = 80,\n",
    "         command=pressed_Start).pack(anchor=tk.W)\n",
    "\n",
    "root.mainloop()"
   ]
  },
  {
   "cell_type": "markdown",
   "metadata": {},
   "source": [
    "<ol> 4. What else can we do with out-of-the-box pre-trained models (https://www.analyticsvidhya.com/blog/2017/06/transfer-learning-the-art-of-fine-tuning-a-pre-trained-model/)?   \n",
    "\n",
    "<br>\n",
    "\n",
    "a. Re-use architecture for a similar task (e.g., object recognition of medical images for disease diagnostics)    \n",
    "b. Add more classes and re-train to make it smarter:     \n",
    "  - https://www.tensorflow.org/hub/tutorials/image_retraining  \n",
    "  - https://becominghuman.ai/transfer-learning-retraining-inception-v3-for-custom-image-classification-2820f653c557      \n",
    "     \n",
    " \n",
    "</ol>\n"
   ]
  },
  {
   "cell_type": "markdown",
   "metadata": {},
   "source": [
    "B. What is happening under the hood?"
   ]
  },
  {
   "cell_type": "markdown",
   "metadata": {},
   "source": [
    "<ol> 1. Imagenet: The origin of the pre-trained models  \n",
    "<br>\n",
    "    - The pre-trained models have been trained using a large number of images (over 14 million imaged from 20,000 categories) from a database called ImageNet.   \n",
    "\n",
    "    - The various pre-trained models that are built into the Keras library are some of the highest performing Convolutional Neural Networks on the ImageNet challenge over the past few years.       \n",
    "<br>\n",
    "**References**:  \n",
    "1. https://www.image-net.org  \n",
    "2. https://en.wikipedia.org/wiki/ImageNet  \n",
    "3. https://www.pyimagesearch.com/2017/03/20/imagenet-vggnet-resnet-inception-xception-keras/  \n",
    "\n",
    "</ol>"
   ]
  },
  {
   "cell_type": "markdown",
   "metadata": {},
   "source": [
    "<ol> 2. Pre-trained model architecture\n",
    "<br>\n",
    "<br>\n",
    "E.g., the VGG16 model architecture (CNN):    \n",
    "\n",
    "To view the neural network architecture, first create the model object, and then call the summary() method. </ol>"
   ]
  },
  {
   "cell_type": "code",
   "execution_count": 3,
   "metadata": {},
   "outputs": [
    {
     "name": "stdout",
     "output_type": "stream",
     "text": [
      "_________________________________________________________________\n",
      "Layer (type)                 Output Shape              Param #   \n",
      "=================================================================\n",
      "input_1 (InputLayer)         (None, 224, 224, 3)       0         \n",
      "_________________________________________________________________\n",
      "block1_conv1 (Conv2D)        (None, 224, 224, 64)      1792      \n",
      "_________________________________________________________________\n",
      "block1_conv2 (Conv2D)        (None, 224, 224, 64)      36928     \n",
      "_________________________________________________________________\n",
      "block1_pool (MaxPooling2D)   (None, 112, 112, 64)      0         \n",
      "_________________________________________________________________\n",
      "block2_conv1 (Conv2D)        (None, 112, 112, 128)     73856     \n",
      "_________________________________________________________________\n",
      "block2_conv2 (Conv2D)        (None, 112, 112, 128)     147584    \n",
      "_________________________________________________________________\n",
      "block2_pool (MaxPooling2D)   (None, 56, 56, 128)       0         \n",
      "_________________________________________________________________\n",
      "block3_conv1 (Conv2D)        (None, 56, 56, 256)       295168    \n",
      "_________________________________________________________________\n",
      "block3_conv2 (Conv2D)        (None, 56, 56, 256)       590080    \n",
      "_________________________________________________________________\n",
      "block3_conv3 (Conv2D)        (None, 56, 56, 256)       590080    \n",
      "_________________________________________________________________\n",
      "block3_pool (MaxPooling2D)   (None, 28, 28, 256)       0         \n",
      "_________________________________________________________________\n",
      "block4_conv1 (Conv2D)        (None, 28, 28, 512)       1180160   \n",
      "_________________________________________________________________\n",
      "block4_conv2 (Conv2D)        (None, 28, 28, 512)       2359808   \n",
      "_________________________________________________________________\n",
      "block4_conv3 (Conv2D)        (None, 28, 28, 512)       2359808   \n",
      "_________________________________________________________________\n",
      "block4_pool (MaxPooling2D)   (None, 14, 14, 512)       0         \n",
      "_________________________________________________________________\n",
      "block5_conv1 (Conv2D)        (None, 14, 14, 512)       2359808   \n",
      "_________________________________________________________________\n",
      "block5_conv2 (Conv2D)        (None, 14, 14, 512)       2359808   \n",
      "_________________________________________________________________\n",
      "block5_conv3 (Conv2D)        (None, 14, 14, 512)       2359808   \n",
      "_________________________________________________________________\n",
      "block5_pool (MaxPooling2D)   (None, 7, 7, 512)         0         \n",
      "_________________________________________________________________\n",
      "flatten (Flatten)            (None, 25088)             0         \n",
      "_________________________________________________________________\n",
      "fc1 (Dense)                  (None, 4096)              102764544 \n",
      "_________________________________________________________________\n",
      "fc2 (Dense)                  (None, 4096)              16781312  \n",
      "_________________________________________________________________\n",
      "predictions (Dense)          (None, 1000)              4097000   \n",
      "=================================================================\n",
      "Total params: 138,357,544\n",
      "Trainable params: 138,357,544\n",
      "Non-trainable params: 0\n",
      "_________________________________________________________________\n"
     ]
    }
   ],
   "source": [
    "#Command for viewing the neural network architectures\n",
    "\n",
    "#E.g., create VGG16 model object\n",
    "model = VGG16() \n",
    "\n",
    "#call out summary method\n",
    "model.summary()"
   ]
  },
  {
   "cell_type": "markdown",
   "metadata": {},
   "source": [
    "<ol> 3. Pre-trained models comparison   \n",
    "<br>\n",
    "https://www.pyimagesearch.com/2017/03/20/imagenet-vggnet-resnet-inception-xception-keras/\n",
    "\n",
    "</ol>"
   ]
  },
  {
   "cell_type": "code",
   "execution_count": 4,
   "metadata": {
    "scrolled": true
   },
   "outputs": [
    {
     "data": {
      "image/png": "[encoded data removed]",
      "text/plain": [
       "<IPython.core.display.Image object>"
      ]
     },
     "execution_count": 4,
     "metadata": {
      "image/png": {
       "height": 400,
       "width": 600
      }
     },
     "output_type": "execute_result"
    }
   ],
   "source": [
    "#(i) Built-in pre-trained models in Keras\n",
    "from IPython.display import Image\n",
    "from IPython.core.display import HTML \n",
    "\n",
    "#https://keras.io/applications/#xception\n",
    "\n",
    "Image('keras-pretrained_ model.png', width=600, height=400)"
   ]
  },
  {
   "cell_type": "code",
   "execution_count": 5,
   "metadata": {},
   "outputs": [
    {
     "data": {
      "text/html": [
       "<img src=\"https://raw.githubusercontent.com/EN10/KerasModels/master/Models.jpg\"/>"
      ],
      "text/plain": [
       "<IPython.core.display.Image object>"
      ]
     },
     "execution_count": 5,
     "metadata": {},
     "output_type": "execute_result"
    }
   ],
   "source": [
    "Image(url='https://raw.githubusercontent.com/EN10/KerasModels/master/Models.jpg')"
   ]
  },
  {
   "cell_type": "code",
   "execution_count": 6,
   "metadata": {},
   "outputs": [
    {
     "data": {
      "text/html": [
       "<img src=\"http://blog.datumbox.com/wp-content/uploads/2018/04/keras-based-image-classifier-with-tensorflow-as-a-back-end-pre-trained-networks-v1-724x540.jpg\" width=\"600\" height=\"400\"/>"
      ],
      "text/plain": [
       "<IPython.core.display.Image object>"
      ]
     },
     "execution_count": 6,
     "metadata": {},
     "output_type": "execute_result"
    }
   ],
   "source": [
    "Image(url='http://blog.datumbox.com/wp-content/uploads/2018/04/keras-based-image-classifier-with-tensorflow-as-a-back-end-pre-trained-networks-v1-724x540.jpg', width=600, height=400)"
   ]
  },
  {
   "cell_type": "markdown",
   "metadata": {},
   "source": [
    "<ol> 4. Artificial intelligence - the big picture <ol>"
   ]
  },
  {
   "cell_type": "markdown",
   "metadata": {},
   "source": [
    "- The big picture  "
   ]
  },
  {
   "cell_type": "code",
   "execution_count": 7,
   "metadata": {},
   "outputs": [
    {
     "data": {
      "text/html": [
       "<img src=\"http://data-bytes.in/wp-content/uploads/2017/08/AAEAAQAAAAAAAAgIAAAAJDVmNDM2NGJhLTk2OWItNDJiNy05OTYxLWRlYTEyNWNhNTU1Mg.png\" width=\"600\" height=\"400\"/>"
      ],
      "text/plain": [
       "<IPython.core.display.Image object>"
      ]
     },
     "execution_count": 7,
     "metadata": {},
     "output_type": "execute_result"
    }
   ],
   "source": [
    "Image(url= 'http://data-bytes.in/wp-content/uploads/2017/08/AAEAAQAAAAAAAAgIAAAAJDVmNDM2NGJhLTk2OWItNDJiNy05OTYxLWRlYTEyNWNhNTU1Mg.png', width=600, height=400)"
   ]
  },
  {
   "cell_type": "code",
   "execution_count": 8,
   "metadata": {},
   "outputs": [
    {
     "data": {
      "text/html": [
       "<img src=\"learning_schematics.png\" width=\"800\" height=\"600\"/>"
      ],
      "text/plain": [
       "<IPython.core.display.Image object>"
      ]
     },
     "execution_count": 8,
     "metadata": {},
     "output_type": "execute_result"
    }
   ],
   "source": [
    "Image(url='learning_schematics.png', width=800, height=600)\n"
   ]
  },
  {
   "cell_type": "markdown",
   "metadata": {},
   "source": [
    "- The brain function versus the artificial neural network (ANN) model for supervised learning(ref.: Kirill Eremenko and Hadelin de Ponteves, Deep Learning A-Z™: Hands-On Artificial Neural Networks, Section 14-61, Udemy, 2018)."
   ]
  },
  {
   "cell_type": "code",
   "execution_count": 9,
   "metadata": {
    "collapsed": true
   },
   "outputs": [],
   "source": [
    "from IPython.display import Image\n",
    "from IPython.core.display import HTML "
   ]
  },
  {
   "cell_type": "markdown",
   "metadata": {},
   "source": [
    "The four lobes of the human brain analogy to the artificial neural network:\n",
    "    - Frontal lobe (RNN: short-term memory)\n",
    "    - Parietal Lobe (spatial sense and navigation)\n",
    "    - Temporal Lobe (ANN: 'permanent' or long-term memory)\n",
    "    - Occipital Lobe (CNN: visual, recognition)\n",
    "    \n",
    "ref.: https://en.wikipedia.org/wiki/Lobes_of_the_brain#Parietal_lobe"
   ]
  },
  {
   "cell_type": "code",
   "execution_count": 10,
   "metadata": {},
   "outputs": [
    {
     "data": {
      "text/html": [
       "<img src=\"https://www.humanbrainfacts.org/images/resource/human-brain-functions.jpg\" width=\"600\" height=\"400\"/>"
      ],
      "text/plain": [
       "<IPython.core.display.Image object>"
      ]
     },
     "execution_count": 10,
     "metadata": {},
     "output_type": "execute_result"
    }
   ],
   "source": [
    "Image(url= 'https://www.humanbrainfacts.org/images/resource/human-brain-functions.jpg', width=600, height=400)"
   ]
  },
  {
   "cell_type": "markdown",
   "metadata": {},
   "source": [
    "- The Neurons Analogy"
   ]
  },
  {
   "cell_type": "markdown",
   "metadata": {},
   "source": [
    "<center> One neuron </center> | <center> Many Neurons </center>\n",
    ":-------------------------:|:-------------------------:\n",
    "![](https://qph.fs.quoracdn.net/main-qimg-e81753ca52a52e99869a97a969132c4e)|![](https://upload.wikimedia.org/wikipedia/commons/thumb/4/46/Colored_neural_network.svg/300px-Colored_neural_network.svg.png) "
   ]
  },
  {
   "cell_type": "markdown",
   "metadata": {},
   "source": [
    "- CNN and RNN architectures"
   ]
  },
  {
   "cell_type": "code",
   "execution_count": 11,
   "metadata": {},
   "outputs": [
    {
     "data": {
      "text/html": [
       "<img src=\"https://cdn-images-1.medium.com/max/1200/1*XbuW8WuRrAY5pC4t-9DZAQ.jpeg\" width=\"600\" height=\"400\"/>"
      ],
      "text/plain": [
       "<IPython.core.display.Image object>"
      ]
     },
     "execution_count": 11,
     "metadata": {},
     "output_type": "execute_result"
    }
   ],
   "source": [
    "#CNN architecture\n",
    "\n",
    "Image(url= 'https://cdn-images-1.medium.com/max/1200/1*XbuW8WuRrAY5pC4t-9DZAQ.jpeg', width=600, height=400)"
   ]
  },
  {
   "cell_type": "code",
   "execution_count": 12,
   "metadata": {},
   "outputs": [
    {
     "data": {
      "text/html": [
       "<img src=\"https://i.ytimg.com/vi/kMLl-TKaEnc/maxresdefault.jpg\" width=\"600\" height=\"400\"/>"
      ],
      "text/plain": [
       "<IPython.core.display.Image object>"
      ]
     },
     "execution_count": 12,
     "metadata": {},
     "output_type": "execute_result"
    }
   ],
   "source": [
    "#RNN architecture: LSTM\n",
    "\n",
    "Image(url= 'https://i.ytimg.com/vi/kMLl-TKaEnc/maxresdefault.jpg',width=600, height=400)"
   ]
  },
  {
   "cell_type": "markdown",
   "metadata": {},
   "source": [
    "### III. Resources for Further Study\n",
    "\n",
    "keywords: OpenCV, ImageNet, Neural Network, Machine Learning, Deep Learning  \n",
    "\n",
    "1. pyimagesearch: https://www.pyimagesearch.com/2017/03/20/imagenet-vggnet-resnet-inception-xception-keras/\n",
    "2. learnopencv: https://www.learnopencv.com/about/\n",
    "3. packt: https://mapt.packtpub.com\n",
    "4. udemy: https://www.udemy.com\n",
    "5. machinelearningmastery: https://machinelearningmastery.com/products/\n",
    "6. AnalyticsVidhya: https://www.analyticsvidhya.com/\n",
    "7. Datacamp: https://www.datacamp.com\n",
    "8. Amazon kindle books\n"
   ]
  },
  {
   "cell_type": "markdown",
   "metadata": {},
   "source": [
    "***"
   ]
  }
 ],
 "metadata": {
  "kernelspec": {
   "display_name": "Python 3",
   "language": "python",
   "name": "python3"
  },
  "language_info": {
   "codemirror_mode": {
    "name": "ipython",
    "version": 3
   },
   "file_extension": ".py",
   "mimetype": "text/x-python",
   "name": "python",
   "nbconvert_exporter": "python",
   "pygments_lexer": "ipython3",
   "version": "3.5.4"
  },
  "widgets": {
   "state": {},
   "version": "1.1.2"
  }
 },
 "nbformat": 4,
 "nbformat_minor": 1
}
